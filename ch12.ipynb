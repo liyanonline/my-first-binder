{
 "cells": [
  {
   "cell_type": "code",
   "execution_count": null,
   "metadata": {
    "collapsed": false
   },
   "outputs": [],
   "source": ["import numpy as np\nimport pandas as pd\nfrom sklearn.discriminant_analysis import LinearDiscriminantAnalysis\nimport matplotlib.pylab as plt\nfrom dmba import classificationSummary\n\nmower_df = pd.read_csv('RidingMowers.csv')\nda_reg = LinearDiscriminantAnalysis()\nda_reg.fit(mower_df.drop(columns=['Ownership']),\nmower_df['Ownership'])\nprint('Coefficients', da_reg.coef_)\nprint('Intercept', da_reg.intercept_)\n\nda_reg = LinearDiscriminantAnalysis()\nda_reg.fit(mower_df.drop(columns=['Ownership']), mower_df['Ownership'])\nresult_df = mower_df.copy()\nresult_df['Dec. Function'] = da_reg.decision_function(mower_df.drop(columns=\n['Ownership']))\nresult_df['Prediction'] = da_reg.predict(mower_df.drop(columns=['Ownership']))\nresult_df['p(Owner)'] = da_reg.predict_proba(mower_df.drop(columns=['Ownership']))[:, 1]\n\naccidents_df = pd.read_csv('accidents.csv')\nlda_reg = LinearDiscriminantAnalysis()\nlda_reg.fit(accidents_df.drop(columns=['MAX_SEV']),\naccidents_df['MAX_SEV'])\nprint('Coefficients and intercept')\nfct = pd.DataFrame([lda_reg.intercept_],\ncolumns=lda_reg.classes_, index=['constant'])\nfct = fct.append(pd.DataFrame(lda_reg.coef_.transpose(),\ncolumns=lda_reg.classes_,\nindex=list(accidents_df.columns)[:-1]))\nprint(fct)\nprint()\nclassificationSummary(accidents_df['MAX_SEV'],\nlda_reg.predict(accidents_df.drop(columns=['MAX_SEV'])),\nclass_names=lda_reg.classes_)\n\n\nresult = pd.concat([\npd.DataFrame({'Classification':\nlda_reg.predict(accidents_df.drop(columns=['MAX_SEV'])),\n'Actual': accidents_df['MAX_SEV']}),\npd.DataFrame(lda_reg.decision_function(accidents_df.drop(columns=\n['MAX_SEV'])),\ncolumns=['Score {}'.format(cls) for cls in\nlda_reg.classes_]),\npd.DataFrame(lda_reg.predict_proba(accidents_df.drop(columns=\n['MAX_SEV'])),\ncolumns=['Propensity {}'.format(cls) for cls in\nlda_reg.classes_])\n], axis=1)\npd.set_option('precision',2)\npd.set_option('chop_threshold', .01)\nprint(result.head())\n\n\n\n\n\n\n\n"]
  }
 ],
 "metadata": {
  "kernelspec": {
   "display_name": "Python 3",
   "language": "python",
   "name": "python3"
  },
  "language_info": {
   "codemirror_mode": {
    "name": "ipython",
    "version": 3
   },
   "file_extension": ".py",
   "mimetype": "text/x-python",
   "name": "python",
   "nbconvert_exporter": "python",
   "pygments_lexer": "ipython3",
   "version": "3.4.2"
  }
 },
 "nbformat": 4,
 "nbformat_minor": 0
}