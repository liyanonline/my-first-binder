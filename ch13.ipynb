{
 "cells": [
  {
   "cell_type": "code",
   "execution_count": null,
   "metadata": {
    "collapsed": false
   },
   "outputs": [],
   "source": ["import pandas as pd\nfrom sklearn.model_selection import train_test_split\nfrom sklearn.tree import DecisionTreeClassifier\nfrom sklearn.ensemble import AdaBoostClassifier\nfrom sklearn.ensemble import BaggingClassifier\nfrom sklearn.ensemble import RandomForestClassifier\nfrom dmba import classificationSummary\nbank_df = pd.read_csv('UniversalBank.csv')\nbank_df.drop(columns=['ID', 'ZIP Code'], inplace=True)\n# split into training and validation\nX = bank_df.drop(columns=['Personal Loan'])\ny = bank_df['Personal Loan']\nX_train, X_valid, y_train, y_valid = train_test_split(X, y,\ntest_size=0.40,\nrandom_state=3)\n# single tree\ndefaultTree = DecisionTreeClassifier(random_state=1)\ndefaultTree.fit(X_train, y_train)\nclasses = defaultTree.classes_\nclassificationSummary(y_valid, defaultTree.predict(X_valid),\nclass_names=classes)\n# bagging\nbagging = BaggingClassifier(DecisionTreeClassifier(random_state=1),\nn_estimators=100,\nrandom_state=1)\nbagging.fit(X_train, y_train)\nclassificationSummary(y_valid, bagging.predict(X_valid),\nclass_names=classes)\n# boosting\nboost = AdaBoostClassifier(DecisionTreeClassifier(random_state=1),\nn_estimators=100,\nrandom_state=1)\nboost.fit(X_train, y_train)\nclassificationSummary(y_valid, boost.predict(X_valid),\nclass_names=classes)\n\nvoter_df = pd.read_csv('Voter-Persuasion.csv')\n# Preprocess data frame\npredictors = ['AGE', 'NH_WHITE', 'COMM_PT', 'H_F1',\n'REG_DAYS',\n'PR_PELIG', 'E_PELIG', 'POLITICALC',\n'MESSAGE_A']\noutcome = 'MOVED_AD'\nclasses = list(voter_df.MOVED_AD.unique())\n# Partition the data\nX = voter_df[predictors]\ny = voter_df[outcome]\nX_train, X_valid, y_train, y_valid = train_test_split(X, y,\ntest_size=0.40,\nrandom_state=1)\n# Train a random forest classifier using the training set\nrfModel = RandomForestClassifier(n_estimators=100,\nrandom_state=1)\nrfModel.fit(X_train, y_train)\n# Calculating the uplift\nuplift_df = X_valid.copy() # Need to create a copy to allow modifying data\nuplift_df.MESSAGE_A = 1\npredTreatment = rfModel.predict_proba(uplift_df)\nuplift_df.MESSAGE_A = 0\npredControl = rfModel.predict_proba(uplift_df)\nupliftResult_df = pd.DataFrame({\n'probMessage': predTreatment[:,1],\n'probNoMessage': predControl[:,1],\n'uplift': predTreatment[:,1] - predControl[:,1],\n}, index=uplift_df.index)\nupliftResult_df.head()\n\n\n\n"]
  }
 ],
 "metadata": {
  "kernelspec": {
   "display_name": "Python 3",
   "language": "python",
   "name": "python3"
  },
  "language_info": {
   "codemirror_mode": {
    "name": "ipython",
    "version": 3
   },
   "file_extension": ".py",
   "mimetype": "text/x-python",
   "name": "python",
   "nbconvert_exporter": "python",
   "pygments_lexer": "ipython3",
   "version": "3.4.2"
  }
 },
 "nbformat": 4,
 "nbformat_minor": 0
}