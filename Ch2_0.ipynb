{
 "cells": [
  {
   "cell_type": "code",
   "execution_count": null,
   "metadata": {
    "collapsed": false
   },
   "outputs": [],
   "source": ["# Import required packages\n# !python3 -m pip install pandas matplotlib sklearn statsmodels mord seaborn dmba\nimport pandas as pd\n# Load data\nhousing_df = pd.read_csv('WestRoxbury.csv')\nhousing_df.shape # find the dimension of data frame\nhousing_df.head() # show the first five rows\nprint(housing_df) # show all the data\n# Rename columns: replace spaces with '_' to allow dot notation\nhousing_df = housing_df.rename(columns={'TOTAL VALUE ':'TOTAL_VALUE'}) # explicit\nhousing_df.columns = [s.strip().replace(' ', '_') for s in housing_df.columns] # all columns\n# Practice showing the first four rows of the data\nhousing_df.loc[0:3] # loc[a:b] gives rows a to b, inclusive\nhousing_df.iloc[0:4] # iloc[a:b] gives rows a to b-1\n# Different ways of showing the first 10 values in column TOTAL_VALUE\nhousing_df['TOTAL_VALUE'].iloc[0:10]\nhousing_df.iloc[0:10]['TOTAL_VALUE']\nhousing_df.iloc[0:10].TOTAL_VALUE # use dot notation if the column name has no spaces\n# Show the fifth row of the first 10 columns\nhousing_df.iloc[4][0:10]\nhousing_df.iloc[4, 0:10]\nhousing_df.iloc[4:5, 0:10] # use a slice to return a data frame\n# Use pd.concat to combine non-consecutive columns into a new data frame.\n# The axis argument specifies the dimension along which the\n# concatenation happens, 0=rows, 1=columns.\npd.concat([housing_df.iloc[4:6,0:2], housing_df.iloc[4:6,4:6]],\naxis=1)\n# To specify a full column, use:\nhousing_df.iloc[:,0:1]\nhousing_df.TOTAL_VALUE\nhousing_df['TOTAL_VALUE'][0:10] # show the first 10 rows of the first column\n# Descriptive statistics\nprint('Number of rows ', len(housing_df['TOTAL_VALUE'])) # show length of first column\nprint('Mean of TOTAL_VALUE ', housing_df['TOTAL_VALUE'].mean())\n# show mean of column\nhousing_df.describe() # show summary statistics for each column\n"]
  }
 ],
 "metadata": {
  "kernelspec": {
   "display_name": "Python 3",
   "language": "python",
   "name": "python3"
  },
  "language_info": {
   "codemirror_mode": {
    "name": "ipython",
    "version": 3
   },
   "file_extension": ".py",
   "mimetype": "text/x-python",
   "name": "python",
   "nbconvert_exporter": "python",
   "pygments_lexer": "ipython3",
   "version": "3.4.2"
  }
 },
 "nbformat": 4,
 "nbformat_minor": 0
}
