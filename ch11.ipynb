{
 "cells": [
  {
   "cell_type": "code",
   "execution_count": null,
   "metadata": {
    "collapsed": false
   },
   "outputs": [],
   "source": ["import pandas as pd\nfrom sklearn.model_selection import train_test_split\nfrom sklearn.neural_network import MLPClassifier\nfrom dmba import classificationSummary\n\nexample_df = pd.read_csv('TinyData.csv')\npredictors = ['Fat', 'Salt']\noutcome = 'Acceptance'\nX = example_df[predictors]\ny = example_df[outcome]\nclasses = sorted(y.unique())\nclf = MLPClassifier(hidden_layer_sizes=(3),\nactivation='logistic', solver='lbfgs',\nrandom_state=1)\nclf.fit(X, y)\nclf.predict(X)\n# Network structure\nprint('Intercepts')\nprint(clf.intercepts_)\nprint('Weights')\nprint(clf.coefs_)\n# Prediction\nprint(pd.concat([\nexample_df,\npd.DataFrame(clf.predict_proba(X), columns=classes)\n], axis=1))\n\nclassificationSummary(y, clf.predict(X),\nclass_names=classes)\n\n####################################################################\naccidents_df = pd.read_csv('accidentsnn.csv')\ninput_vars = ['ALCHL_I', 'PROFIL_I_R', 'VEH_INVL']\naccidents_df.SUR_COND = accidents_df.SUR_COND.astype('category')\naccidents_df.MAX_SEV_IR = accidents_df.MAX_SEV_IR.astype('category')\n# convert the categorical data into dummy variables\n# exclude the column for SUR_COND 9 = unknown\nprocessed = pd.get_dummies(accidents_df, columns= ['SUR_COND'])\nprocessed = processed.drop(columns=['SUR_COND_9'])\noutcome = 'MAX_SEV_IR'\npredictors = [c for c in processed.columns if c != outcome]\n# partition data\nX = processed[predictors]\ny = processed[outcome]\ntrain_X, valid_X, train_y, valid_y = train_test_split(X, y, test_size=0.4, random_state=1)\n# train neural network with 2 hidden nodes\nclf = MLPClassifier(hidden_layer_sizes=(2), activation='logistic', solver='lbfgs', random_state=1)\nclf.fit(train_X, train_y.values)\n# training performance (use idxmax to revert the one-hotencoding)\nclassificationSummary(train_y, clf.predict(train_X))\n# validation performance\nclassificationSummary(valid_y, clf.predict(valid_X))\n\n\n"]
  }
 ],
 "metadata": {
  "kernelspec": {
   "display_name": "Python 3",
   "language": "python",
   "name": "python3"
  },
  "language_info": {
   "codemirror_mode": {
    "name": "ipython",
    "version": 3
   },
   "file_extension": ".py",
   "mimetype": "text/x-python",
   "name": "python",
   "nbconvert_exporter": "python",
   "pygments_lexer": "ipython3",
   "version": "3.4.2"
  }
 },
 "nbformat": 4,
 "nbformat_minor": 0
}