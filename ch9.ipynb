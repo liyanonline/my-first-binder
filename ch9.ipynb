{
 "cells": [
  {
   "cell_type": "code",
   "execution_count": null,
   "metadata": {
    "collapsed": false
   },
   "outputs": [],
   "source": ["#pip3 install numpy pandas sklearn statsmodels mord matplotlib seaborn dmba pydotplus graphviz\n\n# %matplotlib inline\n\nimport pandas as pd\nimport numpy as np\nfrom sklearn.tree import DecisionTreeClassifier, DecisionTreeRegressor\nfrom sklearn.ensemble import RandomForestClassifier, GradientBoostingClassifier\nfrom sklearn.model_selection import train_test_split, cross_val_score, GridSearchCV\nimport matplotlib.pylab as plt\nfrom dmba import plotDecisionTree, classificationSummary, regressionSummary\n\n\nmower_df = pd.read_csv('RidingMowers.csv')\n# mower_df = pd.read_csv('/opt/notebooks/Codes/codes/RidingMowers.csv')\n# use max_depth to control tree size (None = full tree)\nclassTree = DecisionTreeClassifier(random_state=0, max_depth=1)\nclassTree.fit(mower_df.drop(columns=['Ownership']),\nmower_df['Ownership'])\nprint(\"Classes: {}\".format(', '.join(classTree.classes_)))\nplotDecisionTree(classTree, feature_names=mower_df.columns[:2], class_names=classTree.classes_)\n\n# bank_df = pd.read_csv('/opt/notebooks/Codes/codes/UniversalBank.csv')\nbank_df = pd.read_csv('UniversalBank.csv')\nbank_df = pd.read_csv('UniversalBank.csv')\nbank_df.drop(columns=['ID', 'ZIP Code'], inplace=True)\nX = bank_df.drop(columns=['Personal Loan'])\ny = bank_df['Personal Loan']\ntrain_X, valid_X, train_y, valid_y = train_test_split(X, y,\ntest_size=0.4, random_state=1)\nfullClassTree = DecisionTreeClassifier(random_state=1)\nfullClassTree.fit(train_X, train_y)\nplotDecisionTree(fullClassTree, feature_names=train_X.columns)\n\nclassificationSummary(train_y, fullClassTree.predict(train_X))\nclassificationSummary(valid_y, fullClassTree.predict(valid_X))\n\ntreeClassifier = DecisionTreeClassifier(random_state=1)\nscores = cross_val_score(treeClassifier, train_X, train_y, cv=5)\nprint('Accuracy scores of each fold: ', [f'acc:.3f' for acc in scores])\n\nsmallClassTree = DecisionTreeClassifier(max_depth=30, min_samples_split=20, min_impurity_decrease=0.01, random_state=1)\nsmallClassTree.fit(train_X, train_y)\nplotDecisionTree(smallClassTree, feature_names=train_X.columns)\n\nclassificationSummary(train_y, smallClassTree.predict(train_X))\nclassificationSummary(valid_y, smallClassTree.predict(valid_X))\n\n# Start with an initial guess for parameters\nparam_grid = {\n'max_depth': [10, 20, 30, 40],\n'min_samples_split': [20, 40, 60, 80, 100],\n'min_impurity_decrease': [0, 0.0005, 0.001, 0.005, 0.01],\n}\n\ngridSearch = GridSearchCV(DecisionTreeClassifier(random_state=1),\nparam_grid, cv=5, n_jobs=-1) # n_jobs=-1 will utilize all available CPUs\ngridSearch.fit(train_X, train_y)\nprint('Initial score: ', gridSearch.best_score_)\nprint('Initial parameters: ', gridSearch.best_params_)\n# Adapt grid based on result from initial grid search\nparam_grid = {\n'max_depth': list(range(2, 16)), # 14 values\n'min_samples_split': list(range(10, 22)), # 11 values\n'min_impurity_decrease': [0.0009, 0.001, 0.0011], # 3 values\n}\n\ngridSearch = GridSearchCV(DecisionTreeClassifier(random_state=1),\nparam_grid, cv=5,\nn_jobs=-1)\ngridSearch.fit(train_X, train_y)\nprint('Improved score: ', gridSearch.best_score_)\nprint('Improved parameters: ', gridSearch.best_params_)\nbestClassTree = gridSearch.best_estimator_\n\nclassificationSummary(train_y, bestClassTree.predict(train_X))\nclassificationSummary(valid_y, bestClassTree.predict(valid_X))\n\nplotDecisionTree(bestClassTree, feature_names=train_X.columns)\n\nfrom sklearn.tree import DecisionTreeRegressor\ntoyotaCorolla_df = pd.read_csv('ToyotaCorolla.csv', encoding= 'unicode_escape').iloc[:1000,:]\ntoyotaCorolla_df = toyotaCorolla_df.rename(columns={'Age_08_04':\n'Age', 'Quarterly_Tax': 'Tax'})\npredictors = ['Age', 'KM', 'Fuel_Type', 'HP', 'Met_Color',\n'Automatic', 'CC',\n'Doors', 'Tax', 'Weight']\noutcome = 'Price'\nX = pd.get_dummies(toyotaCorolla_df[predictors], drop_first=True)\ny = toyotaCorolla_df[outcome]\ntrain_X, valid_X, train_y, valid_y = train_test_split(X, y,\ntest_size=0.4, random_state=1)\n# user grid search to find optimized tree\nparam_grid = {\n'max_depth': [5, 10, 15, 20, 25],\n'min_impurity_decrease': [0, 0.001, 0.005, 0.01],\n'min_samples_split': [10, 20, 30, 40, 50],\n}\ngridSearch = GridSearchCV(DecisionTreeRegressor(), param_grid,\ncv=5, n_jobs=-1)\ngridSearch.fit(train_X, train_y)\nprint('Initial parameters: ', gridSearch.best_params_)\nparam_grid = {\n'max_depth': [3, 4, 5, 6, 7, 8, 9, 10, 11, 12],\n'min_impurity_decrease': [0, 0.001, 0.002, 0.003, 0.005,\n0.006, 0.007, 0.008],\n\n'min_samples_split': [14, 15, 16, 18, 20, ],\n}\n\ngridSearch = GridSearchCV(DecisionTreeRegressor(), param_grid,\ncv=5, n_jobs=-1)\ngridSearch.fit(train_X, train_y)\nprint('Improved parameters: ', gridSearch.best_params_)\nregTree = gridSearch.best_estimator_\nregressionSummary(train_y, regTree.predict(train_X))\nregressionSummary(valid_y, regTree.predict(valid_X))\n\nbank_df = pd.read_csv('UniversalBank.csv')\nbank_df.drop(columns=['ID', 'ZIP Code'], inplace=True)\nX = bank_df.drop(columns=['Personal Loan'])\ny = bank_df['Personal Loan']\ntrain_X, valid_X, train_y, valid_y = train_test_split(X, y,\ntest_size=0.4, random_state=1)\nrf = RandomForestClassifier(n_estimators=500, random_state=1)\nrf.fit(train_X, train_y)\n# variable (feature) importance plot\nimportances = rf.feature_importances_\nstd = np.std([tree.feature_importances_ for tree in\nrf.estimators_], axis=0)\ndf = pd.DataFrame({'feature': train_X.columns, 'importance':\nimportances, 'std': std})\ndf = df.sort_values('importance')\nprint(df)\nax = df.plot(kind='barh', xerr='std', x='feature', legend=False)\nax.set_ylabel('')\nplt.show()\n# confusion matrix for validation set\nclassificationSummary(valid_y, rf.predict(valid_X))\n\n\n"]
  }
 ],
 "metadata": {
  "kernelspec": {
   "display_name": "Python 3",
   "language": "python",
   "name": "python3"
  },
  "language_info": {
   "codemirror_mode": {
    "name": "ipython",
    "version": 3
   },
   "file_extension": ".py",
   "mimetype": "text/x-python",
   "name": "python",
   "nbconvert_exporter": "python",
   "pygments_lexer": "ipython3",
   "version": "3.4.2"
  }
 },
 "nbformat": 4,
 "nbformat_minor": 0
}
