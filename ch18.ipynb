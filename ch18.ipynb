{
 "cells": [
  {
   "cell_type": "code",
   "execution_count": null,
   "metadata": {
    "collapsed": false
   },
   "outputs": [],
   "source": ["import numpy as np\nimport pandas as pd\nimport matplotlib.pylab as plt\nimport statsmodels.formula.api as sm\nfrom statsmodels.tsa import tsatools\nfrom statsmodels.tsa.holtwinters import ExponentialSmoothing\n\n# Load data and convert to time series\nAmtrak_df = pd.read_csv('Amtrak.csv')\nAmtrak_df['Date'] = pd.to_datetime(Amtrak_df.Month,\nformat='%d/%m/%Y')\nridership_ts = pd.Series(Amtrak_df.Ridership.values,\nindex=Amtrak_df.Date,\nname='Ridership')\nridership_ts.index = pd.DatetimeIndex(ridership_ts.index,\nfreq=ridership_ts.index.inferred_freq)\n# centered moving average with window size = 12\nma_centered = ridership_ts.rolling(12, center=True).mean()\n# trailing moving average with window size = 12\nma_trailing = ridership_ts.rolling(12).mean()\n# shift the average by one time unit to get the next day predictions\nma_centered = pd.Series(ma_centered[:-1].values,\nindex=ma_centered.index[1:])\nma_trailing = pd.Series(ma_trailing[:-1].values,\nindex=ma_trailing.index[1:])\nfig, ax = plt.subplots(figsize=(8, 7))\nax = ridership_ts.plot(ax=ax, color='black', linewidth=0.25)\nma_centered.plot(ax=ax, linewidth=2)\nma_trailing.plot(ax=ax, style='--', linewidth=2)\nax.set_xlabel('Time')\nax.set_ylabel('Ridership')\nax.legend(['Ridership', 'Centered Moving Average', 'Trailing Moving Average'])\nplt.show()\n\n# partition the data\nnValid = 36\nnTrain = len(ridership_ts) - nValid\ntrain_ts = ridership_ts[:nTrain]\nvalid_ts = ridership_ts[nTrain:]\n# moving average on training\nma_trailing = train_ts.rolling(12).mean()\nlast_ma = ma_trailing[-1]\n# create forecast based on last moving average in the training period\nma_trailing_pred = pd.Series(last_ma, index=valid_ts.index)\nfig, axes = plt.subplots(nrows=2, ncols=1, figsize=(9, 7.5))\nma_trailing.plot(ax=axes[0], linewidth=2, color='C1')\nma_trailing_pred.plot(ax=axes[0], linewidth=2, color='C1',\nlinestyle='dashed')\nresidual = train_ts - ma_trailing\nresidual.plot(ax=axes[1], color='C1')\nresidual = valid_ts - ma_trailing_pred\nresidual.plot(ax=axes[1], color='C1', linestyle='dashed')\n# graphLayout(axes, train_ts, valid_ts)\n\n# Build a model with seasonality, trend, and quadratic trend\nridership_df = tsatools.add_trend(ridership_ts, trend='ct')\nridership_df['Month'] = ridership_df.index.month\n# partition the data\ntrain_df = ridership_df[:nTrain]\nvalid_df = ridership_df[nTrain:]\nformula ='Ridership~trend + np.square(trend) + C(Month)'\nridership_lm_trendseason = sm.ols(formula=formula, data=train_df).fit()\n# create single-point forecast\nridership_prediction = ridership_lm_trendseason.predict(valid_df.iloc[0, :])\n# apply MA to residuals\nma_trailing = ridership_lm_trendseason.resid.rolling(12).mean()\nprint('Prediction', ridership_prediction[0])\nprint('ma_trailing', ma_trailing[-1])\n\n\nresiduals_ts = ridership_lm_trendseason.resid\nresiduals_pred = valid_df.Ridership -ridership_lm_trendseason.predict(valid_df)\nfig, ax = plt.subplots(figsize=(9,4))\nridership_lm_trendseason.resid.plot(ax=ax, color='black', linewidth=0.5)\nresiduals_pred.plot(ax=ax, color='black', linewidth=0.5)\nax.set_ylabel('Ridership')\nax.set_xlabel('Time')\nax.axhline(y=0, xmin=0, xmax=1, color='grey', linewidth=0.5)\n# run exponential smoothing\n# with smoothing level alpha = 0.2\nexpSmooth = ExponentialSmoothing(residuals_ts, freq='MS')\nexpSmoothFit = expSmooth.fit(smoothing_level=0.2)\nexpSmoothFit.fittedvalues.plot(ax=ax)\nexpSmoothFit.forecast(len(valid_ts)).plot(ax=ax, style='--',\nlinewidth=2, color='C0')\n# singleGraphLayout(ax, [-550, 550], train_df, valid_df)\n# run exponential smoothing with additive trend and additive\nexpSmooth = ExponentialSmoothing(train_ts, trend='additive',\nseasonal='additive',\nseasonal_periods=12, freq='MS')\nexpSmoothFit = expSmooth.fit()\nfig, axes = plt.subplots(nrows=2, ncols=1, figsize=(9, 7.5))\nexpSmoothFit.fittedvalues.plot(ax=axes[0], linewidth=2,\ncolor='C1')\nexpSmoothFit.forecast(len(valid_ts)).plot(ax=axes[0],\nlinewidth=2, color='C1',\nlinestyle='dashed')\nresidual = train_ts - expSmoothFit.fittedvalues\nresidual.plot(ax=axes[1], color='C1')\nresidual = valid_ts - expSmoothFit.forecast(len(valid_ts))\nresidual.plot(ax=axes[1], color='C1', linestyle='dashed')\n# graphLayout(axes, train_ts, valid_ts)\n\nprint(expSmoothFit.params)\nprint('AIC: ', expSmoothFit.aic)\nprint('AICc: ', expSmoothFit.aicc)\n"]
  }
 ],
 "metadata": {
  "kernelspec": {
   "display_name": "Python 3",
   "language": "python",
   "name": "python3"
  },
  "language_info": {
   "codemirror_mode": {
    "name": "ipython",
    "version": 3
   },
   "file_extension": ".py",
   "mimetype": "text/x-python",
   "name": "python",
   "nbconvert_exporter": "python",
   "pygments_lexer": "ipython3",
   "version": "3.4.2"
  }
 },
 "nbformat": 4,
 "nbformat_minor": 0
}