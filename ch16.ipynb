{
 "cells": [
  {
   "cell_type": "code",
   "execution_count": null,
   "metadata": {
    "collapsed": false
   },
   "outputs": [],
   "source": ["import pandas as pd\nimport matplotlib.pylab as plt\nimport statsmodels.formula.api as sm\nfrom statsmodels.tsa import tsatools\n\nfrom matplotlib.backends.backend_pdf import PdfPages\npp = PdfPages('ch16.pdf')\n\t\nAmtrak_df = pd.read_csv('Amtrak.csv')\n# convert the date information to a datetime object\nAmtrak_df['Date'] = pd.to_datetime(Amtrak_df.Month,\nformat='%d/%m/%Y')\n# convert dataframe column to series (name is used to label the data)\nridership_ts = pd.Series(Amtrak_df.Ridership.values,\nindex=Amtrak_df.Date,\nname='Ridership')\n# define the time series frequency\nridership_ts.index = pd.DatetimeIndex(ridership_ts.index,\nfreq=ridership_ts.index.inferred_freq)\n# plot the series\nax = ridership_ts.plot()\nax.set_xlabel('Time')\nax.set_ylabel('Ridership (in 000s)')\nax.set_ylim(1300, 2300)\n\npp.savefig()\n\n\n# create short time series from 1997 to 1999 using a slice\nridership_ts_3yrs = ridership_ts['1997':'1999']\n# create a data frame with additional predictors from time series\n# the following command adds a constant term, a trend term and a quadratic trend term\nridership_df = tsatools.add_trend(ridership_ts, trend='ctt')\n# fit a linear regression model to the time series\nridership_lm = sm.ols(formula='Ridership ~ trend + trend_squared',data=ridership_df).fit()\n# shorter and longer time series\nfig, axes = plt.subplots(nrows=2, ncols=1, figsize=(10,6))\nridership_ts_3yrs.plot(ax=axes[0])\nridership_ts.plot(ax=axes[1])\nfor ax in axes:\n  ax.set_xlabel('Time')\n  ax.set_ylabel('Ridership (in 000s)')\n  ax.set_ylim(1300, 2300)  \nridership_lm.predict(ridership_df).plot(ax=axes[1])\n\npp.savefig()\nplt.show()\n\n\nnValid = 36\nnTrain = len(ridership_ts) - nValid\n# partition the data\ntrain_ts = ridership_ts[:nTrain]\nvalid_ts = ridership_ts[nTrain:]\n# generate the naive and seasonal naive forecast\nnaive_pred = pd.Series(train_ts[-1], index=valid_ts.index)\nlast_season = train_ts[-12:]\nseasonal_pred = pd.Series(pd.concat([last_season]*5)\n[:len(valid_ts)].values,\nindex=valid_ts.index)\n# plot forecasts and actual in the training and validationsets\nax = train_ts.plot(color='C0', linewidth=0.75, figsize=\n(9,7))\nvalid_ts.plot(ax=ax, color='C0', linestyle='dashed',\nlinewidth=0.75)\nax.set_xlim('1990', '2006-6')\nax.set_ylim(1300, 2600)\nax.set_xlabel('Time')\nax.set_ylabel('Ridership (in 000s)')\nnaive_pred.plot(ax=ax, color='green')\nseasonal_pred.plot(ax=ax, color='orange')\n# determine coordinates for drawing the arrows and lines\none_month = pd.Timedelta('31 days')\nxtrain = (min(train_ts.index), max(train_ts.index) -\none_month)\nxvalid = (min(valid_ts.index) + one_month,\nmax(valid_ts.index) - one_month)\nxfuture = (max(valid_ts.index) + one_month, '2006')\nxtv = xtrain[1] + 0.5 * (xvalid[0] - xtrain[1])\nxvf = xvalid[1] + 0.5 * (xfuture[0] - xvalid[1])\nax.add_line(plt.Line2D(xtrain, (2450, 2450), color='black',\nlinewidth=0.5))\nax.add_line(plt.Line2D(xvalid, (2450, 2450), color='black',\nlinewidth=0.5))\nax.add_line(plt.Line2D(xfuture, (2450, 2450), color='black',\nlinewidth=0.5))\nax.text('1995', 2500, 'Training')\nax.text('2001-9', 2500, 'Validation')\nax.text('2004-7', 2500, 'Future')\nax.axvline(x=xtv, ymin=0, ymax=1, color='black',\nlinewidth=0.5)\nax.axvline(x=xvf, ymin=0, ymax=1, color='black',\nlinewidth=0.5)\n\npp.savefig()\nplt.show()\npp.close()\n\n#regressionSummary(valid_ts, naive_pred)\n\n# regressionSummary(valid_ts, seasonal_pred)\n\n\n\n\n\n\n\n\n\n\n\n\n\n\n\n\n\n\n\n\n\n\n"]
  }
 ],
 "metadata": {
  "kernelspec": {
   "display_name": "Python 3",
   "language": "python",
   "name": "python3"
  },
  "language_info": {
   "codemirror_mode": {
    "name": "ipython",
    "version": 3
   },
   "file_extension": ".py",
   "mimetype": "text/x-python",
   "name": "python",
   "nbconvert_exporter": "python",
   "pygments_lexer": "ipython3",
   "version": "3.4.2"
  }
 },
 "nbformat": 4,
 "nbformat_minor": 0
}