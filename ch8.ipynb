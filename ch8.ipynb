{
 "cells": [
  {
   "cell_type": "code",
   "execution_count": null,
   "metadata": {
    "collapsed": false
   },
   "outputs": [],
   "source": ["#pip3 install numpy pandas sklearn statsmodels mord matplotlib seaborn dmba\n\n%matplotlib inline\n\nimport matplotlib\n# matplotlib.use('TkAgg')\nimport matplotlib.pyplot as plt\nfrom matplotlib.backends.backend_pdf import PdfPages\npp = PdfPages('ch8.pdf')\n\nimport pandas as pd\nfrom sklearn.model_selection import train_test_split\nfrom sklearn.naive_bayes import MultinomialNB\n# UserWarning: Matplotlib is currently using agg, which is a non-GUI backend, so cannot show the figure. plt.show()\n\nfrom dmba import classificationSummary, gainsChart\n# delays_df = pd.read_csv('FlightDelays.csv')\n# delays_df = pd.read_csv('/opt/notebooks/Codes/codes/FlightDelays.csv')\ndelays_df = pd.read_csv('FlightDelays.csv')\n\n# delays_df = pd.read_html('https://cl1p.net/uqzdiybhxgeoi')\n# convert to categorical\ndelays_df.DAY_WEEK = delays_df.DAY_WEEK.astype('category')\ndelays_df['Flight Status'] = delays_df['Flight Status'].astype('category')\n# create hourly bins departure time\ndelays_df.CRS_DEP_TIME = [round(t / 100) for t in delays_df.CRS_DEP_TIME]\n# delays_df.CRS_DEP_TIME = # by Yan\ndelays_df.CRS_DEP_TIME.astype('category')\npredictors = ['DAY_WEEK', 'CRS_DEP_TIME', 'ORIGIN', 'DEST','CARRIER']\noutcome = 'Flight Status'\nX = pd.get_dummies(delays_df[predictors])\ny = delays_df['Flight Status'].astype('category')\nclasses = list(y.cat.categories)\n\n\n# split into training and validation\nX_train, X_valid, y_train, y_valid = train_test_split(X, y,test_size=0.40,random_state=1)\n# run naive Bayes\ndelays_nb = MultinomialNB(alpha=0.01)\ndelays_nb.fit(X_train, y_train)\n# predict probabilities\npredProb_train = delays_nb.predict_proba(X_train)\npredProb_valid = delays_nb.predict_proba(X_valid)\n# predict class membership\ny_train_pred = delays_nb.predict(X_train)\ny_valid_pred = delays_nb.predict(X_valid)\n\n\n# split the original data frame into a train and test using the same random_state\ntrain_df, valid_df = train_test_split(delays_df, test_size=0.4, random_state=1)\npd.set_option('precision', 4)\n# probability of flight status\nprint(train_df['Flight Status'].value_counts() / len(train_df))\nprint()\n\nfor predictor in predictors:\n   # construct the frequency table\n   df = train_df[['Flight Status', predictor]]\n   freqTable = df.pivot_table(index='Flight Status',\n   columns=predictor, aggfunc=len)\n   # divide each value by the sum of the row to get conditional probabilities\n   propTable = freqTable.apply(lambda x: x / sum(x), axis=1)\n   print(propTable)\n   print()\npd.reset_option('precision')\n\n\n# classify a specific flight by searching in the dataset\n# for a flight with the same predictor values\ndf = pd.concat([pd.DataFrame({'actual': y_valid, 'predicted':y_valid_pred}), pd.DataFrame(predProb_valid, index=y_valid.index)], axis=1)\nmask = ((X_valid.CARRIER_DL == 1) & (X_valid.DAY_WEEK_7 == 1) &  (X_valid.CRS_DEP_TIME == 1) & (X_valid.DEST_LGA == 1) & (X_valid.ORIGIN_DCA == 1)) # by Yan: CRS_DEP_TIME_10\ndf[mask]\n\n\n# training\nclassificationSummary(y_train, y_train_pred, class_names=classes)\n# validation\nclassificationSummary(y_valid, y_valid_pred, class_names=classes)\n\ndf = pd.DataFrame({'actual':1 - y_valid.cat.codes, 'prob':predProb_valid[:, 0]})\ndf = df.sort_values(by=['prob'], ascending=False).reset_index(drop=True)\nfig, ax = plt.subplots()\nfig.set_size_inches(4, 4)\ngainsChart(df.actual, ax=ax)\npp.savefig()\nplt.show()\n\n\n"]
  }
 ],
 "metadata": {
  "kernelspec": {
   "display_name": "Python 3",
   "language": "python",
   "name": "python3"
  },
  "language_info": {
   "codemirror_mode": {
    "name": "ipython",
    "version": 3
   },
   "file_extension": ".py",
   "mimetype": "text/x-python",
   "name": "python",
   "nbconvert_exporter": "python",
   "pygments_lexer": "ipython3",
   "version": "3.4.2"
  }
 },
 "nbformat": 4,
 "nbformat_minor": 0
}
