{
 "cells": [
  {
   "cell_type": "code",
   "execution_count": null,
   "metadata": {
    "collapsed": false
   },
   "outputs": [],
   "source": ["%matplotlib\u00c2\u00a0inline\n\nimport pandas as pd\nfrom sklearn.model_selection import train_test_split\nfrom sklearn.linear_model import LinearRegression, Lasso, Ridge,LassoCV,BayesianRidge\nimport statsmodels.formula.api as sm\n\nfrom dmba import regressionSummary, exhaustive_search\nfrom dmba import backward_elimination, forward_selection,stepwise_selection\nfrom dmba import adjusted_r2_score, AIC_score, BIC_score\n\n\n# UserWarning: Matplotlib is currently using agg, which is a non-GUI backend, so cannot show the figure. plt.show()\n# sudo apt-get install python3-tk\nimport matplotlib\n# matplotlib.use('TkAgg')\nimport matplotlib.pyplot as plt\n\n# reduce data frame to the top 1000 rows and select columns for regression analysis\ncar_df = pd.read_csv('/opt/notebooks/Codes/codes/ToyotaCorolla.csv', encoding = 'unicode_escape') # by Yan\n# car_df = pd.read_csv('ToyotaCorolla.csv', encoding = 'unicode_escape') # by Yan\ncar_df = car_df.iloc[0:1000]\npredictors = ['Age_08_04', 'KM', 'Fuel_Type', 'HP', 'Met_Color',\n'Automatic', 'CC',\n'Doors', 'Quarterly_Tax', 'Weight']\noutcome = 'Price'\n# partition data\nX = pd.get_dummies(car_df[predictors], drop_first=True)\ny = car_df[outcome]\ntrain_X, valid_X, train_y, valid_y = train_test_split(X, y, test_size=0.4, random_state=1)\ncar_lm = LinearRegression()\ncar_lm.fit(train_X, train_y)\n# print coefficients\nprint(pd.DataFrame({'Predictor': X.columns, 'coefficient': car_lm.coef_}))\n# print performance measures (training data)\nregressionSummary(train_y, car_lm.predict(train_X))\n\n# Use predict() to make predictions on a new set\ncar_lm_pred = car_lm.predict(valid_X)\nresult = pd.DataFrame({'Predicted': car_lm_pred, 'Actual': valid_y, 'Residual': valid_y - car_lm_pred})\nprint(result.head(20))\n# print performance measures (validation data)\nregressionSummary(valid_y, car_lm_pred)\n\n\n# Use predict() to make predictions on a new set\ncar_lm_pred = car_lm.predict(valid_X)\nresult = pd.DataFrame({'Predicted': car_lm_pred, 'Actual': valid_y, 'Residual': valid_y - car_lm_pred})\nprint(result.head(20))\n# print performance measures (validation data)\nregressionSummary(valid_y, car_lm_pred)\n\ncar_lm_pred = car_lm.predict(valid_X)\nall_residuals = valid_y - car_lm_pred\n# Determine the percentage of datapoints with a residual in [-1406, 1406] = approx.\n# 75%\nprint(len(all_residuals[(all_residuals > -1406) & (all_residuals < 1406)]) /len(all_residuals))\n\n# pd.DataFrame('Residuals': all_residuals).hist(bins=25)\npd.DataFrame(all_residuals).hist(bins = 25) # by Yan\n\nplt.show()\n"]
  }
 ],
 "metadata": {
  "kernelspec": {
   "display_name": "Python 3",
   "language": "python",
   "name": "python3"
  },
  "language_info": {
   "codemirror_mode": {
    "name": "ipython",
    "version": 3
   },
   "file_extension": ".py",
   "mimetype": "text/x-python",
   "name": "python",
   "nbconvert_exporter": "python",
   "pygments_lexer": "ipython3",
   "version": "3.4.2"
  }
 },
 "nbformat": 4,
 "nbformat_minor": 0
}