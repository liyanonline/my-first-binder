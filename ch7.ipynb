{
 "cells": [
  {
   "cell_type": "code",
   "execution_count": null,
   "metadata": {
    "collapsed": false
   },
   "outputs": [],
   "source": ["# %matplotlib\u00c2\u00a0inline\n\nimport pandas as pd\nfrom sklearn import preprocessing\nfrom sklearn.model_selection import train_test_split\nfrom sklearn.metrics import accuracy_score\nfrom sklearn.neighbors import NearestNeighbors,KNeighborsClassifier\n\n# UserWarning: Matplotlib is currently using agg, which is a non-GUI backend, so cannot show the figure. plt.show()\nimport matplotlib\n# matplotlib.use('TkAgg')\nimport matplotlib.pyplot as plt\n\nfrom matplotlib.backends.backend_pdf import PdfPages\npp = PdfPages('ch7.pdf')\n\n\n# mower_df = pd.read_csv('/opt/notebooks/Codes/codes/RidingMowers.csv')\nmower_df = pd.read_csv('RidingMowers.csv')\n\nmower_df['Number'] = mower_df.index + 1\ntrainData, validData = train_test_split(mower_df, test_size=0.4, random_state=26)\n## new household\nnewHousehold = pd.DataFrame([{'Income': 60, 'Lot_Size': 20}])\n## scatter plot\ndef plotDataset(ax, data, showLabel=True, **kwargs):\n   subset = data.loc[data['Ownership']=='Owner']\n   ax.scatter(subset.Income, subset.Lot_Size, marker='o',\n   label='Owner' if showLabel else None, color='C1',\n   **kwargs)\n   subset = data.loc[data['Ownership']=='Nonowner']\n   ax.scatter(subset.Income, subset.Lot_Size, marker='D',\n   label='Nonowner' if showLabel else None, color='C0',\n   **kwargs)\n   plt.xlabel('Income') # set x-axis label\n   plt.ylabel('Lot_Size') # set y-axis label\n   for _, row in data.iterrows():\n     ax.annotate(row.Number, (row.Income + 2, row.Lot_Size))\nfig, ax = plt.subplots()\nplotDataset(ax, trainData)\nplotDataset(ax, validData, showLabel=False, facecolors='none')\nax.scatter(newHousehold.Income, newHousehold.Lot_Size,\nmarker='*',\nlabel='New household', color='black', s=150)\nplt.xlabel('Income'); plt.ylabel('Lot_Size')\nax.set_xlim(40, 115)\nhandles, labels = ax.get_legend_handles_labels()\nax.legend(handles, labels, loc=4)\npp.savefig()\nplt.show()\n\n\npredictors = ['Income', 'Number']\n# outcome =\n# initialize normalized training, validation, and complete data frames\n# use the training data to learn the transformation.\nscaler = preprocessing.StandardScaler()\nscaler.fit(trainData[['Income', 'Lot_Size']]) # Note use of array of column names\n# Transform the full dataset\nmowerNorm = pd.concat([pd.DataFrame(scaler.transform(mower_df[['Income', 'Lot_Size']]),\ncolumns=['zIncome',   'zLot_Size']),\nmower_df[['Ownership', 'Number']]],    axis=1)\ntrainNorm = mowerNorm.iloc[trainData.index]\nvalidNorm = mowerNorm.iloc[validData.index]\nnewHouseholdNorm = pd.DataFrame(scaler.transform(newHousehold),  columns=['zIncome', 'zLot_Size'])\n\n# use NearestNeighbors from scikit-learn to compute knn\nfrom sklearn.neighbors import NearestNeighbors\nknn = NearestNeighbors(n_neighbors=3)  # knn ###################################################\nknn.fit(trainNorm.iloc[:, 0:2])\ndistances, indices = knn.kneighbors(newHouseholdNorm)\n# indices is a list of lists, we are only interested in the first  element\nprint(trainNorm.iloc[indices[0], :])\n\n\ntrain_X = trainNorm[['zIncome', 'zLot_Size']]\ntrain_y = trainNorm['Ownership']\nvalid_X = validNorm[['zIncome', 'zLot_Size']]\nvalid_y = validNorm['Ownership']\n# Train a classifier for different values of k\nresults = []\nfor k in range(1, 15):\n   knn = KNeighborsClassifier(n_neighbors=k).fit(train_X, train_y)\n   results.append({  'k': k,  'accuracy': accuracy_score(valid_y, knn.predict(valid_X)) })\n# Convert results to a pandas data frame\nresults = pd.DataFrame(results)\nprint(results)\n\n\n# Retrain with full dataset\nmower_X = mowerNorm[['zIncome', 'zLot_Size']]\nmower_y = mowerNorm['Ownership']\nknn = KNeighborsClassifier(n_neighbors=4).fit(mower_X, mower_y)\ndistances, indices = knn.kneighbors(newHouseholdNorm)\nprint(knn.predict(newHouseholdNorm))\nprint('Distances',distances)\nprint('Indices', indices)\nprint(mowerNorm.iloc[indices[0], :])\n"]
  }
 ],
 "metadata": {
  "kernelspec": {
   "display_name": "Python 3",
   "language": "python",
   "name": "python3"
  },
  "language_info": {
   "codemirror_mode": {
    "name": "ipython",
    "version": 3
   },
   "file_extension": ".py",
   "mimetype": "text/x-python",
   "name": "python",
   "nbconvert_exporter": "python",
   "pygments_lexer": "ipython3",
   "version": "3.4.2"
  }
 },
 "nbformat": 4,
 "nbformat_minor": 0
}